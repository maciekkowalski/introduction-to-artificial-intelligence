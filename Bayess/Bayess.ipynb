{
  "nbformat": 4,
  "nbformat_minor": 0,
  "metadata": {
    "colab": {
      "provenance": []
    },
    "kernelspec": {
      "name": "python3",
      "display_name": "Python 3"
    }
  },
  "cells": [
    {
      "cell_type": "markdown",
      "metadata": {
        "id": "AMMXLENOd7V-"
      },
      "source": [
        "# Wstęp do Sztucznej Inteligencji - rok akademicki 2022/2023\n",
        "\n",
        "Przed rozpoczęciem pracy z notatnikiem zmień jego nazwę zgodnie z wzorem: `NrAlbumu_Nazwisko_Imie_PoprzedniaNazwa`.\n",
        "\n",
        "Przed wysłaniem notatnika upewnij się, że rozwiązałeś wszystkie zadania/ćwiczenia."
      ]
    },
    {
      "cell_type": "markdown",
      "metadata": {
        "id": "4ZZF68t-kiQ8"
      },
      "source": [
        "# Temat: Wnioskowanie oparte na wiedzy niepewnej. Wnioskowanie bayesowskie\n",
        "Zapoznaj się z treścią niniejszego notatnika czytając i wykonując go komórka po komórce. Wykonaj napotkane zadania/ćwiczenia."
      ]
    },
    {
      "cell_type": "markdown",
      "metadata": {
        "id": "9B7YUblnktrz"
      },
      "source": [
        "## Zadanie 1  ( 5pkt.)\n",
        "Zapożyczone z ćwiczeń do wykładu [Arabas, Cichosz](http://wazniak.mimuw.edu.pl/index.php?title=Sztuczna_inteligencja/SI_%C4%86wiczenia_4)\n",
        "\n",
        "### Zamodeluj i odpowiedz na pytania.\n",
        "\n",
        "W śledztwie dotyczącym zabójstwa inspektor Bayes rozważa dwie hipotezy:\n",
        "\n",
        "- $H_1$ główny podejrzany zabił,\n",
        "- $H_2$ główny podejrzany nie zabił, \n",
        "\n",
        "oraz następujące możliwe fakty:\n",
        "\n",
        "- $E_1$ na miejscu zbrodni znaleziono odciski palców głównego podejrzanego,\n",
        "- $E_2$ główny podejrzany nie ma alibi na czas popełnienia zabójstwa,\n",
        "- $E_3$ główny podejrzany miał motyw zabicia ofiary,\n",
        "- $E_4$ główny podejrzany był widziany w sądziedztwie miejsca, w którym mieszka nielegalny handlarz bronią,\n",
        "- $E_5$ świadek zbrodni podał rysopis zabójcy nie pasujący do głównego podejrzanego. \n",
        "\n",
        "Zależności między takimi faktami a hipotezami opisują następujące prawdopodobieństwa:\n",
        "\n",
        "$P(E_1|H_1)=0.7,\\qquad P(E_1|H_2)=0.3,$\n",
        "\n",
        "$P(E_2|H_1)=0.8,\\qquad P(E_2|H_2)=0.4,$\n",
        "\n",
        "$P(E_3|H_1)=0.9,\\qquad P(E_3|H_2)=0.5,$\n",
        "\n",
        "$P(E_4|H_1)=0.4,\\qquad P(E_4|H_2)=0.2,$\n",
        "\n",
        "$P(E_5|H_1)=0.2,\\qquad P(E_5|H_2)=0.4.$ \n",
        "\n",
        "__W którym przypadku prawdopodobieństwo popełnienia zabójstwa byłoby największe?__\n",
        "\n",
        "1. Gdyby znaleziono na miejscu zbrodni jego odciski palców.\n",
        "2. Gdyby stwierdzono, że nie miał alibi i miał motyw.\n",
        "3. Gdyby znaleziono na miejscu zbrodni jego odciski palców oraz stwierdzono, że był widziany w sąsiedztwie miejsca, w którym mieszka nielegalny handlarz bronią, ale świadek zbrodni podał rysopis zabójcy nie pasujący do głównego podejrzanego."
      ]
    },
    {
      "cell_type": "markdown",
      "metadata": {
        "id": "_WeSA3oZsqwD"
      },
      "source": [
        "### TWÓJ PROGRAM:"
      ]
    },
    {
      "cell_type": "code",
      "metadata": {
        "id": "HbbAmNT8sqE1",
        "colab": {
          "base_uri": "https://localhost:8080/",
          "height": 36
        },
        "outputId": "dc9ac16b-edc0-4799-ac1b-28fa7a994872"
      },
      "source": [
        "#YOUR CODE HERE\n",
        "\n",
        "# w celu obliczenia każdego z prawdopodobienstw korzystamy z reguły Bayesa \n",
        "# P(H1|E) = P(E|H1) * P(H1) / P(E)\n",
        "\n",
        "import math \n",
        "\n",
        "def bayes(P_E_given_H1, P_E_given_H2, P_H1=0.5, P_H2=0.5):\n",
        "  # zakładamy że prawd, że podejrzany zabił (H1), jest takie samo, że nie zabił (H2)\n",
        "  # P(H1) = P(H2) = 0.5\n",
        "    P_E = (P_E_given_H1 * P_H1) + (P_E_given_H2 * P_H2)\n",
        "    P_H1_given_E = (P_E_given_H1 * P_H1) / P_E\n",
        "    return P_H1_given_E\n",
        "\n",
        "# prawdopodobieństwa warunkowe dla każdego z faktów\n",
        "P_E1_H1, P_E1_H2 = 0.7, 0.3\n",
        "P_E2_H1, P_E2_H2 = 0.8, 0.4\n",
        "P_E3_H1, P_E3_H2 = 0.9, 0.5\n",
        "P_E4_H1, P_E4_H2 = 0.4, 0.2\n",
        "P_E5_H1, P_E5_H2 = 0.2, 0.4\n",
        "\n",
        "# obliczanie prawdopodobieństw dla każdego przypadku\n",
        "\n",
        "case1 = bayes(P_E1_H1, P_E1_H2) # gdyby znaleziono na miejscu zbrodni jego odciski palców (E1)\n",
        "\n",
        "case2 = bayes(P_E2_H1 * P_E3_H1, P_E2_H2 * P_E3_H2) # gdyby stwierdzono, że nie miał alibi i miał motyw (E2,E3)\n",
        "\n",
        "case3 = bayes(P_E1_H1 * P_E4_H1 * P_E5_H1, P_E1_H2 * P_E4_H2 * P_E5_H2)  \n",
        "# case3 - gdyby znaleziono na miejscu zbrodni jego odciski palców (E1) \n",
        "# stwierdzono, że był widziany w sąsiedztwie miejsca, w którym mieszka nielegalny handlarz bronią (E4)\n",
        "# świadek zbrodni podał rysopis zabójcy nie pasujący do głównego podejrzanego (E5)\n",
        "\n",
        "\n",
        "# porównujemy wyniki, aby sprawdzić w którym prawdopodobieństwo jest największe\n",
        "max_case = max(case1, case2, case3)\n",
        "if max_case == case1:\n",
        "    answer = \"Prawdopodobieństwo popełnienia zabójstwa byłoby największe w przypadku 1\"\n",
        "elif max_case == case2:\n",
        "    answer = \"Prawdopodobieństwo popełnienia zabójstwa byłoby największe w przypadku 2\"\n",
        "else:\n",
        "    answer = \"Prawdopodobieństwo popełnienia zabójstwa byłoby największe w przypadku 3\"\n",
        "\n",
        "answer\n",
        "\n"
      ],
      "execution_count": 10,
      "outputs": [
        {
          "output_type": "execute_result",
          "data": {
            "text/plain": [
              "'Prawdopodobieństwo popełnienia zabójstwa byłoby największe w przypadku 2'"
            ],
            "application/vnd.google.colaboratory.intrinsic+json": {
              "type": "string"
            }
          },
          "metadata": {},
          "execution_count": 10
        }
      ]
    },
    {
      "cell_type": "markdown",
      "metadata": {
        "id": "OJCwrDffiEd9"
      },
      "source": [
        "### ODPOWIEDŹ:"
      ]
    },
    {
      "cell_type": "markdown",
      "metadata": {
        "id": "8Sry3tq8tLpk"
      },
      "source": [
        "YOUR ANSWER HERE"
      ]
    },
    {
      "cell_type": "markdown",
      "metadata": {
        "id": "C57dALyNj4Se"
      },
      "source": [
        "&copy; Katedra Informatyki, Politechnika Krakowska"
      ]
    }
  ]
}