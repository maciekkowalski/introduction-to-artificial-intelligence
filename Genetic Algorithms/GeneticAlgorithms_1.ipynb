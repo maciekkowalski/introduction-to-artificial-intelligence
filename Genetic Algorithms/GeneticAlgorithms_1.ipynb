{
  "nbformat": 4,
  "nbformat_minor": 0,
  "metadata": {
    "colab": {
      "provenance": []
    },
    "kernelspec": {
      "display_name": "Python 3",
      "language": "python",
      "name": "python3"
    },
    "language_info": {
      "codemirror_mode": {
        "name": "ipython",
        "version": 3
      },
      "file_extension": ".py",
      "mimetype": "text/x-python",
      "name": "python",
      "nbconvert_exporter": "python",
      "pygments_lexer": "ipython3",
      "version": "3.7.4"
    }
  },
  "cells": [
    {
      "cell_type": "markdown",
      "metadata": {
        "id": "AMMXLENOd7V-"
      },
      "source": [
        "# Wstęp do Sztucznej Inteligencji - rok akademicki 2022/2023\n",
        "\n",
        "Przed rozpoczęciem pracy z notatnikiem zmień jego nazwę zgodnie z wzorem: `NrAlbumu_Nazwisko_Imie_PoprzedniaNazwa`.\n",
        "\n",
        "Przed wysłaniem notatnika upewnij się, że rozwiązałeś wszystkie zadania/ćwiczenia."
      ]
    },
    {
      "cell_type": "markdown",
      "metadata": {
        "id": "4ZZF68t-kiQ8"
      },
      "source": [
        "# Temat: Optymalizacja globalna: Prosty algorytm genetyczny cz. I\n",
        "Głownym celem zajęć poświęconych alorytmom genetycznym jest stworzenie od podstaw (implentacja) prostego algorytmu genetycznego i późniejsze wykorzystanie go do rozwiązania przykładowych zadań optymalizacji globalnej.\n",
        "\n",
        "W tym notatniku będą Państwo mieli za zadanie zaimplementować pięć elementów (pięć funkcji) wchodzących w skład procedury algorytmu genetycznego. "
      ]
    },
    {
      "cell_type": "markdown",
      "metadata": {
        "id": "cwgxhLoJ1uGq"
      },
      "source": [
        "## Import biblioteki numpy\n",
        "Wszystkie funkcje należy tworzyć z wykorzystaniem biblioteki `numpy`."
      ]
    },
    {
      "cell_type": "code",
      "metadata": {
        "id": "5Ay9yE_f17t_"
      },
      "source": [
        "import numpy as np"
      ],
      "execution_count": 12,
      "outputs": []
    },
    {
      "cell_type": "markdown",
      "metadata": {
        "id": "xTpCaibN1Ccp"
      },
      "source": [
        "## Przykładowa funkcja celu\n",
        "Zadanie optymalizacji w wielu przypadakach sprowadza się optymalizacji odpowiednio sformułowanej funkcj, tzw. funkcji celu. Poniżej przykładowa prosta funkcja umożliwiająca testowanie zaimplemetowanych funkcji.  "
      ]
    },
    {
      "cell_type": "code",
      "metadata": {
        "id": "MDoK-uWZhhD7"
      },
      "source": [
        "# testowa funkcja celu\n",
        "# x - jednowymiarowa tablica ndarray\n",
        "def obj_func(x):\n",
        "    return (x**2).sum()"
      ],
      "execution_count": 13,
      "outputs": []
    },
    {
      "cell_type": "markdown",
      "metadata": {
        "id": "rx6b2MiJ2tig"
      },
      "source": [
        "Przykład wywołania.\n",
        "\n",
        "Wektor `x` to tak zwany osobnik, czyli jedno z możliwych (dopuszczalnych) rozwiązań.  "
      ]
    },
    {
      "cell_type": "code",
      "metadata": {
        "id": "jMNPVnxKmRsa",
        "outputId": "83db1ad1-a6cd-4f96-9c6c-8ebf0cc38331",
        "colab": {
          "base_uri": "https://localhost:8080/"
        }
      },
      "source": [
        "# przykład wywołania\n",
        "x = np.array([1.2, 0.1, 3, 2.1])\n",
        "print(obj_func(x))"
      ],
      "execution_count": 14,
      "outputs": [
        {
          "output_type": "stream",
          "name": "stdout",
          "text": [
            "14.86\n"
          ]
        }
      ]
    },
    {
      "cell_type": "markdown",
      "metadata": {
        "id": "kw9bKdYKfW2I"
      },
      "source": [
        "Zadanie optymalizacji można sformułować jako zadanie poszukiwania minimum (minimalizacja) bądź maksimum (maksymalizacja) funkcji. \n",
        "\n",
        "Zaznaczmy, że rozwiązaniem problemu optymalizacji jest podanie nie tylko jaka jest wartość optymalna, ale również (a może nawet przede wszystkim) dla jakich wartości $x$ funkcja osiąga to optimum.\n",
        "\n",
        "Przykład: Znajdź minimum funkcji $f(x)=x^2$ w przedziale $[-1, 1]$.\n",
        "\n",
        "Rozwiązanie można sformułować następnująco: w przedziale $[-1, 1]$ funkcja $f(x)=x^2$ osiąga minimum równe $0$ dla $x=0$.\n",
        "\n",
        "Zwróć uwagę, że powyższe zadanie można zdefiniować jako zadanie maksymalizacji:\n",
        "\n",
        "Przykład: Znajdź maksimum funkcji $f(x)=-x^2$ w przedziale $[-1, 1]$.\n",
        "\n",
        "Rozwiązanie jest takie samo, tzn. dla $x=0$ podana funkcja osiąga wartość $0$ (tym razem jest to maksimum). \n",
        "\n",
        "Zatem, implementując nasz aglorytm genetyczny do szukania maksimum funkcji, będziemy go w stanie użyć do szukania minimum danej funkcji, jeśli weźmiemy oryginalną funkcję i pomnożymy ją przez $-1$.\n"
      ]
    },
    {
      "cell_type": "markdown",
      "metadata": {
        "id": "9B7YUblnktrz"
      },
      "source": [
        "## Liczba potrzebnych bitów\n",
        "W prosty algorytmie genetycznym wykorzystywane jest kodowanie binarne osobnika, tzn. każda z wartości rzeczywistych wektora `x` reprezentowana jest przez ciąg bitów (zer i jedynek).\n",
        "\n",
        "Pierwszym krokiem zatem jest określenie ile potrzeba bitów aby móc zakodować wszystkie dopuszczalne rozwiązania z zadaną dokładnością."
      ]
    },
    {
      "cell_type": "markdown",
      "metadata": {
        "id": "5xPZCNLQ2zKO"
      },
      "source": [
        "### Zadanie 1\n",
        "Zaimplementować metodę obliczającą ilość bitów potrzebnych do zakodowania liczby rzeczywistej z przedziału `[a, b]` z zadanym krokiem `dx`. Metoda ta powinna zwracać również nowy dokładniejszy krok `dx`.\n",
        "\n",
        "Należy zatem na podstwie kroku `dx` oraz końców przedziału `a` i `b` określić ile liczb całkowitych będzie trzeba zakodować w postaci binarnej. Nasępnie dobrać najmniejszą liczbę bitów pozwalającą na zakodowanie tylu liczb.\n",
        "\n",
        "__Przykład:__ `a=0`, `b=1`, `dx=0.1`\n",
        "\n",
        "W przedziale `[0, 1]` z krokiem `0.1` mieści się 11 liczb (włącznie z końcami przedziału), zatem potrzebna liczba bitów to 4 bo na 4 bitach zakodujemy 16 (od 0 do 15) liczb a na 3 już tylko 8 (za mało). \n",
        "\n",
        "Ponieważ na 4 bitach zakodujemy 16 liczb to przy niezmienionym kroku liczba:\n",
        "- `0000` odpowiada liczbie całkowitej 0 ($i$), a rzeczywistej 0.0 (wzór: $i*dx+a$)\n",
        "- `1111` odpowiada liczbie całkowitej 15 ($i$), a rzeczywistej 1.5 (wzór: $i*dx+a$)\n",
        "\n",
        "Jak widać liczba `1111` po rozkodowaniu wykracza poza dopuszczalny podział. Należy zatem zaktualizować krok `dx` tak aby `1111` odpowiadało dokładnie wartości `b`.\n",
        "\n",
        "Argumenty funkcji:\n",
        "- `a` - początek przedziału, liczba rzeczywista.\n",
        "- `b` - koniec przedziału, liczba rzeczywista.\n",
        "- `dx` - krok, dokładność kodowania, liczba rzeczywista.\n",
        "- `B` - liczba bitów, liczba całkowita.\n",
        "- `dx_new` - nowy dokładniejszy krok, liczba rzeczywista."
      ]
    },
    {
      "cell_type": "code",
      "metadata": {
        "id": "roJLXMvG4Dgx"
      },
      "source": [
        "import math\n",
        "def nbits(a, b, dx):\n",
        "    # liczba liczb całkowitych potrzebna do zakodowania przedziału [a, b]\n",
        "    numberOfIntegers = int(math.ceil((b - a) / dx)) + 1\n",
        "    # liczba bitów\n",
        "    B = int(math.ceil(math.log2(numberOfIntegers)))\n",
        "    # nowy krok, który pozwoli na zakodowanie wszystkich liczb dokładniej\n",
        "    dx_new = (b - a) / (2 ** B - 1)\n",
        "    return B, dx_new"
      ],
      "execution_count": 27,
      "outputs": []
    },
    {
      "cell_type": "code",
      "source": [
        "%timeit nbits(0,1,0.1) "
      ],
      "metadata": {
        "colab": {
          "base_uri": "https://localhost:8080/"
        },
        "id": "VNrHteWZpwsa",
        "outputId": "86462f0d-d0fe-4de3-8ff3-c28a03a4c6ae"
      },
      "execution_count": 29,
      "outputs": [
        {
          "output_type": "stream",
          "name": "stdout",
          "text": [
            "1.08 µs ± 310 ns per loop (mean ± std. dev. of 7 runs, 1000000 loops each)\n"
          ]
        }
      ]
    },
    {
      "cell_type": "code",
      "metadata": {
        "id": "BA_NXIKD6LmB"
      },
      "source": [
        "# jeśli poniższe nie rzuca wyjątku to znaczy, że testy przeszły ale nie musi oznaczać, że wszystko jest dobrze\n",
        "np.testing.assert_almost_equal(nbits(0, 1, 0.1)[0], 4, decimal=6)\n",
        "np.testing.assert_almost_equal(nbits(0, 1, 0.1)[1], 0.06666666666666667, decimal=6)\n",
        "np.testing.assert_almost_equal(nbits(-2.4, 3.1, 0.01)[0], 10, decimal=6)\n",
        "np.testing.assert_almost_equal(nbits(-2.4, 3.1, 0.01)[1], 0.005376344086021506, decimal=6)"
      ],
      "execution_count": 28,
      "outputs": []
    },
    {
      "cell_type": "markdown",
      "metadata": {
        "id": "VWilOQkE_yA8"
      },
      "source": [
        "## Populacja początkowa\n",
        "Algorytm genetyczny jest algorytmem działającym na pewnej populacji osobników (początkowo losowej), którą to poddaje się tzw. operacjom genetycznym.\n"
      ]
    },
    {
      "cell_type": "markdown",
      "metadata": {
        "id": "lFD4AIrBffbv"
      },
      "source": [
        "### Zadanie 2\n",
        "Zaimplementować metodę generującą początkową populację zakodowanych osobników (binarną). Metoda ta powinna zwracać obiekt typu `ndarray`. Użyj metody `np.random.randint`.\n",
        "\n",
        "Jest to po prostu dwuwymiarowa tablica, gdzie pierwszy wymiar to liczba osobników, a drugi liczba zmiennych w osobniku razy liczba bitów na każdą z nich.\n",
        "\n",
        "Uwaga: W naszej implementacji algortmu genetycznego, dla uproszczenia przyjmiemy, że każdą zmienną rzeczywistą kodować będziemy za pomocą takiej samej liczby bitów. Ułatwia to implementację, jednak warto pamiętać, że w rzeczywistych problemach może to nie wystarczyć. Może istnieć potrzeba dokładniejszego reprezentowania pewnej zmiennej rzeczywistej (wykorzystując większą liczbę bitów) niż innej. Problem ten pojawia się również, jeśli wszystkie zmienne chcemy reprezentować z tą samą dokładności, ale zakresy ich wartości różnią się - aby osiągnąć tę samą dokładność przy większym zakresie wartości musimy użyć większej liczby bitów. \n",
        "\n",
        "Warto zwrócić uwagę, że szukając rozwiązania jako liczby rzeczywistej ale stosująć kodowanie binarne, z góry wiemy, że pewnych wartości nie będziemy w stanie reprezentować wykorzystując przyjętą liczbę bitów. \n",
        "\n",
        "Przykładowo, mamy za zadanie znalezienie minimum funkcji\n",
        "\n",
        "$f(x) = x^2$\n",
        "\n",
        "w przedziale $[-1, 1]$.\n",
        "\n",
        "Wiadomo, że minimum tej funkcji jest w $x=0$ i wynosi $f(0)=0^2=0$. Jeśli jednak nasze rozwiązania reprezentujemy za pomocą 2 bitów, nie jesteśmy w stanie reprezentować wartości zero. Uruchom poniższy przykład.\n",
        "\n"
      ]
    },
    {
      "cell_type": "code",
      "metadata": {
        "id": "Ye63ksttfW2Y",
        "outputId": "d205978e-7e0c-443f-c570-d1f19ff02f48",
        "colab": {
          "base_uri": "https://localhost:8080/"
        }
      },
      "source": [
        "import numpy as np\n",
        "\n",
        "def fun(x):\n",
        "    return x*x\n",
        "\n",
        "a = -1.0\n",
        "b = 1.0\n",
        "\n",
        "bits_num = 2\n",
        "\n",
        "print('{0:>6} | {1:>15} | {2:>15}'.format('binary', 'decoded', 'wartosc funkcji'))\n",
        "for i in range(2**bits_num):\n",
        "    binary_solution = bin(i)[2:].zfill(bits_num)\n",
        "    decoded_solution = a + i*(b-a)/(2**bits_num-1)\n",
        "    print('{0:>6} | {1:15.10f} | {2:15.10f}'.format(binary_solution, decoded_solution, fun(decoded_solution)))"
      ],
      "execution_count": 30,
      "outputs": [
        {
          "output_type": "stream",
          "name": "stdout",
          "text": [
            "binary |         decoded | wartosc funkcji\n",
            "    00 |   -1.0000000000 |    1.0000000000\n",
            "    01 |   -0.3333333333 |    0.1111111111\n",
            "    10 |    0.3333333333 |    0.1111111111\n",
            "    11 |    1.0000000000 |    1.0000000000\n"
          ]
        }
      ]
    },
    {
      "cell_type": "markdown",
      "metadata": {
        "id": "UkHvvNiPfW2c"
      },
      "source": [
        "Jeśli użyjemy trzech bitów, również nie jesteśmy w stanie reprezentować zera, jednak najlepsze (najbliższe 0) rozwiązanie, jakie jesteśmy w stanie reprezentować jest bliżej rzeczywistego."
      ]
    },
    {
      "cell_type": "code",
      "metadata": {
        "id": "Wj2cqkHnfW2d",
        "outputId": "b01993aa-7c7e-4718-951d-b05a8fe5df3c",
        "colab": {
          "base_uri": "https://localhost:8080/"
        }
      },
      "source": [
        "import numpy as np\n",
        "\n",
        "def fun(x):\n",
        "    return x*x\n",
        "\n",
        "a = -1.0\n",
        "b = 1.0\n",
        "\n",
        "bits_num = 3\n",
        "\n",
        "print('{0:>3} | {1:>15} | {2:>15}'.format('binary', 'decoded', 'wartosc funkcji'))\n",
        "for i in range(2**bits_num):\n",
        "    binary_solution = bin(i)[2:].zfill(bits_num)\n",
        "    decoded_solution = a + i*(b-a)/(2**bits_num-1)\n",
        "    print('{0:>6} | {1:15.10f} | {2:15.10f}'.format(binary_solution, decoded_solution, fun(decoded_solution)))"
      ],
      "execution_count": 23,
      "outputs": [
        {
          "output_type": "stream",
          "name": "stdout",
          "text": [
            "binary |         decoded | wartosc funkcji\n",
            "   000 |   -1.0000000000 |    1.0000000000\n",
            "   001 |   -0.7142857143 |    0.5102040816\n",
            "   010 |   -0.4285714286 |    0.1836734694\n",
            "   011 |   -0.1428571429 |    0.0204081633\n",
            "   100 |    0.1428571429 |    0.0204081633\n",
            "   101 |    0.4285714286 |    0.1836734694\n",
            "   110 |    0.7142857143 |    0.5102040816\n",
            "   111 |    1.0000000000 |    1.0000000000\n"
          ]
        }
      ]
    },
    {
      "cell_type": "markdown",
      "metadata": {
        "id": "XXY0lwjefW2h"
      },
      "source": [
        "Warto zaznaczyć jeszcze jedną rzecz. Typy float i double również są reprezentowane w komputerach binarnie i mają swoje ograniczenia - niektórych wartości nie da się reprezentować. Zatem zwiększanie liczby bitów w naszej implementacji również ma sens tylko do pewnego momentu."
      ]
    },
    {
      "cell_type": "markdown",
      "metadata": {
        "id": "e-54kSm4fW2i"
      },
      "source": [
        "Zaimplementuj funkcję generującą początkową populację zakodowanych osobników (binarną). Metoda ta powinna zwracać obiekt typu ndarray. Użyj metody np.random.randint.\n",
        "\n",
        "Argumenty funkcji:\n",
        "- `P` - liczba osobników, liczba całkowita.\n",
        "- `N` - liczba zmiennych, liczba całkowita.\n",
        "- `B` - liczba bitów na każdą ze zmiennych, liczba całkowita.\n",
        "- `pop` - populacja zakodowanych osobników, tablica `ndarray`."
      ]
    },
    {
      "cell_type": "code",
      "metadata": {
        "id": "wiUvCib9A6cc"
      },
      "source": [
        "def gen_population(P, N, B):\n",
        "    ### TWÓJ KOD TUTAJ\n",
        "\n",
        "    pop = np.random.randint(low=0, high=2, size=(P, N * B))\n",
        "  \n",
        "    return pop"
      ],
      "execution_count": 31,
      "outputs": []
    },
    {
      "cell_type": "code",
      "metadata": {
        "id": "_e_d7JMFCE_r"
      },
      "source": [
        "# jeśli poniższe nie rzuca wyjątku to znaczy, że testy przeszły ale nie musi oznaczać, że wszystko jest dobrze\n",
        "np.testing.assert_array_almost_equal(np.array(gen_population(5, 2, 3).shape), np.array((5, 6)))\n",
        "np.testing.assert_array_almost_equal(np.array(gen_population(10, 3, 8).shape), np.array((10, 24)))"
      ],
      "execution_count": 32,
      "outputs": []
    },
    {
      "cell_type": "markdown",
      "metadata": {
        "id": "l_vcZLlxh19H"
      },
      "source": [
        "## Dekodowanie osobnika\n",
        "Aby móc ocenić danego osbnika (podstawić go do funkcji celu) należy go zdekodować, czyli każdą ze zmiennych w postaci binarnej zamienić na liczbę rzeczywistą. Patrz przykład do zadania pierwszego."
      ]
    },
    {
      "cell_type": "markdown",
      "metadata": {
        "id": "l-OhAVorh9ow"
      },
      "source": [
        "### Zadanie 3\n",
        "Zaimplementuj metodę pozwalajacą na rozkodowanie osobników, tzn. przekonwertowanie osobnika z postaci binarnej na rzeczywistą. Metoda powinna zwrócić jedno wymiarową tablicę `ndarray`.\n",
        "\n",
        "Argumenty funkcji:\n",
        "- `individual` - osobnik binarny kodujący `N` zmiennych rzeczywistych, tablica `ndarray`.\n",
        "- `N` - liczba zmiennych, liczba całkowita.\n",
        "- `B` - liczba bitów na każdą ze zmiennych, liczba całkowita.\n",
        "- `a` - początek przedziału, liczba rzeczywsta, dla każdej zmiennej taki sam.\n",
        "- `dx` - krok, dokładność kodowania, taki sam dla każdej zmiennej.\n",
        "- `decode_individual` - rozkodowany osobnik, tablica `ndarray` zawierająca `N` zmiennych rzeczywistych.\n",
        "\n",
        "__Ważne__: Funkcja ta wykonywana będzie w każdej iteracji algorytmu (wielokrotnie) należy zatem zadbać o to aby było ona zaimplementowana w sposób wydajny."
      ]
    },
    {
      "cell_type": "code",
      "metadata": {
        "id": "kbBHd2HOEB5P"
      },
      "source": [
        "import numpy as np\n",
        "def decode_individual(individual, N, B, a, dx):\n",
        "    bits = np.reshape(individual, (N, B))\n",
        "    decimals = np.sum(bits * 2 ** np.arange(B - 1, -1, -1), axis=1)\n",
        "    return a + decimals * dx\n",
        "\n",
        "# jeśli poniższe nie rzuca wyjątku to znaczy, że testy przeszły ale nie musi oznaczać, że wszystko jest dobrze\n",
        "a = -1\n",
        "N = 2\n",
        "B = 5\n",
        "dx = 0.06451612903225806\n",
        "pop = np.array([[0, 0, 1, 1, 1, 1, 0, 0, 0, 0], [0, 1, 0, 0, 0, 0, 1, 0, 0, 1], [0, 1, 0, 0, 0, 1, 1, 1, 0, 0], [1, 0, 0, 1, 1, 1, 1, 1, 0, 0], [1, 1, 1, 1, 1, 1, 1, 1, 0, 1]])\n",
        "dpop = np.array([[-0.5483871, 0.03225806], [-0.48387097, -0.41935484], [-0.48387097, 0.80645161], [0.22580645, 0.80645161], [1.0, 0.87096774]])\n",
        "for i, ind in enumerate(pop):\n",
        "    np.testing.assert_array_almost_equal(decode_individual(ind, N, B, a, dx), dpop[i])"
      ],
      "execution_count": 33,
      "outputs": []
    },
    {
      "cell_type": "code",
      "metadata": {
        "id": "wsyXNyXMEYYp"
      },
      "source": [
        "# jeśli poniższe nie rzuca wyjątku to znaczy, że testy przeszły ale nie musi oznaczać, że wszystko jest dobrze\n",
        "a = -1\n",
        "N = 2\n",
        "B = 5\n",
        "dx = 0.06451612903225806\n",
        "pop = np.array([[0, 0, 1, 1, 1, 1, 0, 0, 0, 0], [0, 1, 0, 0, 0, 0, 1, 0, 0, 1], [0, 1, 0, 0, 0, 1, 1, 1, 0, 0], [1, 0, 0, 1, 1, 1, 1, 1, 0, 0], [1, 1, 1, 1, 1, 1, 1, 1, 0, 1]])\n",
        "dpop = np.array([[-0.5483871, 0.03225806], [-0.48387097, -0.41935484], [-0.48387097, 0.80645161], [0.22580645, 0.80645161], [1.0, 0.87096774]])\n",
        "for i, ind in enumerate(pop):\n",
        "    np.testing.assert_array_almost_equal(decode_individual(ind, N, B, a, dx), dpop[i])"
      ],
      "execution_count": 34,
      "outputs": []
    },
    {
      "cell_type": "markdown",
      "metadata": {
        "id": "OJCwrDffiEd9"
      },
      "source": [
        "## Ocena całej populacji\n",
        "Gdy już umiemy rozkodować osobiki to możemy na każdym z nich obliczyć wartość funkcji celu."
      ]
    },
    {
      "cell_type": "markdown",
      "metadata": {
        "id": "aTJLCU6KiT-T"
      },
      "source": [
        "### Zadanie 4\n",
        "Zaimplementuj metodę oceny osobników w populacji, tzn. metodę wykonującą funkcję celu na każdym z osobników. Metoda powinna zwrócić jedno wymiarową tablicę `ndarray`.\n",
        "\n",
        "Wejściem do funkcji jest populacja zakodowana, tak więc należy wykorzystać funkcję z zadania 3 do rozkodowania osobnika a następnie wywołać na nim funkcje celu.\n",
        "\n",
        "Argumety funkcji:\n",
        "- `func` - funkcja celu (przystosowania).\n",
        "- `pop` - populacja zakodowanych osobników, tablica `ndarray`.\n",
        "- `N` - liczba zmiennych, liczba całkowita.\n",
        "- `B` - liczba bitów na każdą ze zmiennych, liczba całkowita.\n",
        "- `a` - początek przedziału, liczba rzeczywsta, dla każdej zmiennej taki sam.\n",
        "- `dx` - krok, dokładność kodowania, taki sam dla każdej zmiennej.\n",
        "- `evaluated_pop` - tablica `ndarray` zawierająca wartości funkcji celu dla poszczególnych osobników.\n",
        "\n",
        "__Ważne__: Funkcja ta wykonywana będzie w każdej iteracji algorytmu (wielokrotnie) należy zatem zadbać o to aby było ona zaimplementowana w sposób wydajny."
      ]
    },
    {
      "cell_type": "code",
      "metadata": {
        "id": "Mfbv6i25BPSu"
      },
      "source": [
        "def evaluate_population(func, pop, N, B, a, dx):\n",
        "    decoded_pop = np.apply_along_axis(decode_individual, 1, pop, N, B, a, dx)\n",
        "    evaluated_pop = np.apply_along_axis(func, 1, decoded_pop)\n",
        "    return evaluated_pop"
      ],
      "execution_count": 35,
      "outputs": []
    },
    {
      "cell_type": "code",
      "metadata": {
        "id": "QA8GLyA6HPdE"
      },
      "source": [
        "# jeśli poniższe nie rzuca wyjątku to znaczy, że testy przeszły ale nie musi oznaczać, że wszystko jest dobrze\n",
        "a = -1\n",
        "N = 2\n",
        "B = 5\n",
        "dx = 0.06451612903225806\n",
        "pop = np.array([[0, 0, 1, 1, 1, 1, 0, 0, 0, 0], [0, 1, 0, 0, 0, 0, 1, 0, 0, 1], [0, 1, 0, 0, 0, 1, 1, 1, 0, 0], [1, 0, 0, 1, 1, 1, 1, 1, 0, 0], [1, 1, 1, 1, 1, 1, 1, 1, 0, 1]])\n",
        "epop = np.array([0.30176899, 0.40998959, 0.88449532, 0.70135276, 1.75858481])\n",
        "np.testing.assert_array_almost_equal(evaluate_population(obj_func, pop, N, B, a, dx), epop)"
      ],
      "execution_count": 36,
      "outputs": []
    },
    {
      "cell_type": "markdown",
      "metadata": {
        "id": "ZiHzVQYYibOS"
      },
      "source": [
        "## Wybór najlepszego osobnika\n",
        "W działaniu algorytmu genetycznego chodzi o to aby znaleźć osobnika, który ma nalepszą wartość funkcji. Będziemy implementowąć algorytm genetyczny w wersji algortmu maksymalizującego wartość funkcji celu. Zatem najlepszy osobnik to ten,którego wartość funkcji celu jest największa."
      ]
    },
    {
      "cell_type": "markdown",
      "metadata": {
        "id": "QKWpMlq9iz-A"
      },
      "source": [
        "### Zadanie 5\n",
        "Zaimplementować metodę zwracającą najlepszego osobnika z populacji (maksimum). Metoda powinna zwracać osobnika w postaci jednowymiarowej tablicy `ndarray` oraz odpowiadającą mu wartość funkcji celu.\n",
        "\n",
        "- `pop` - populacja zakodowanych osobników, tablica `ndarray`.\n",
        "- `evaluated_pop` - tablica `ndarray` ocen osobników.\n",
        "- `best_individual` - najlepszy osobnik (zakodowany), tablica `ndarray`.\n",
        "- `best_value` - wartość najlepszego osobnika, liczba rzeczywista.\n",
        "\n",
        "__Ważne__: Funkcja ta wykonywana będzie w każdej iteracji algorytmu (wielokrotnie) należy zatem zadbać o to aby było ona zaimplementowana w sposób wydajny."
      ]
    },
    {
      "cell_type": "code",
      "metadata": {
        "id": "vLGJ3QawJ6l_"
      },
      "source": [
        "def get_best(pop, evaluated_pop):\n",
        "    ### TWÓJ KOD TUTAJ\n",
        "    best_idx = np.argmax(evaluated_pop)\n",
        "    best_individual = pop[best_idx]\n",
        "    best_value = evaluated_pop[best_idx]\n",
        "    return best_individual, best_value"
      ],
      "execution_count": 37,
      "outputs": []
    },
    {
      "cell_type": "code",
      "metadata": {
        "id": "w3amkDE9J-AT"
      },
      "source": [
        "# jeśli poniższe nie rzuca wyjątku to znaczy, że testy przeszły ale nie musi oznaczać, że wszystko jest dobrze\n",
        "pop = np.array([[0, 0, 1, 1, 1, 1, 0, 0, 0, 0], [0, 1, 0, 0, 0, 0, 1, 0, 0, 1], [0, 1, 0, 0, 0, 1, 1, 1, 0, 0], [1, 0, 0, 1, 1, 1, 1, 1, 0, 0], [1, 1, 1, 1, 1, 1, 1, 1, 0, 1]])\n",
        "epop = np.array([0.30176899, 0.40998959, 0.88449532, 0.70135276, 1.75858481])\n",
        "np.testing.assert_array_almost_equal(get_best(pop, epop)[0], np.array([1, 1, 1, 1, 1, 1, 1, 1, 0, 1]))\n",
        "np.testing.assert_almost_equal(get_best(pop, epop)[1], 1.75858481)"
      ],
      "execution_count": 38,
      "outputs": []
    },
    {
      "cell_type": "markdown",
      "metadata": {
        "id": "C57dALyNj4Se"
      },
      "source": [
        "&copy; Katedra Informatyki, Politechnika Krakowska"
      ]
    }
  ]
}